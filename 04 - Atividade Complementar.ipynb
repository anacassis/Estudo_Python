{
 "cells": [
  {
   "cell_type": "code",
   "execution_count": 4,
   "metadata": {},
   "outputs": [
    {
     "data": {
      "text/plain": [
       "True"
      ]
     },
     "execution_count": 4,
     "metadata": {},
     "output_type": "execute_result"
    }
   ],
   "source": [
    "'''Crie uma função lambda chamada eh_multiplo_dez() que retorna True se um determinado número é múltiplo de 10 e False caso contrário.\n",
    "'''\n",
    "\n",
    "eh_multiplo_dez = lambda x:  (x % 10) ==0\n",
    "eh_multiplo_dez(10)"
   ]
  },
  {
   "cell_type": "code",
   "execution_count": 24,
   "metadata": {},
   "outputs": [
    {
     "name": "stdout",
     "output_type": "stream",
     "text": [
      "o resultado de 10 é 362880\n"
     ]
    }
   ],
   "source": [
    "'''Converta o programa de cálculo de fatorial da aula anterior para uma função. A função recebe como argumento o n e retorna o fatorial de n.'''\n",
    "\n",
    "def conv_valor(n):\n",
    "    fat = 1\n",
    "    fatorial = 1\n",
    "    while fat < n:\n",
    "        fatorial = fatorial * fat\n",
    "        fat = fat + 1\n",
    "    return fatorial\n",
    "    \n",
    "n = int(input(\"Qual numero você deseja: \"))\n",
    "resultado =conv_valor(n)\n",
    "print(f\"o resultado de {n} é {resultado}\")"
   ]
  },
  {
   "cell_type": "code",
   "execution_count": 25,
   "metadata": {},
   "outputs": [
    {
     "name": "stdout",
     "output_type": "stream",
     "text": [
      "Primeiro nome: Ana\n"
     ]
    }
   ],
   "source": [
    "'''Crie uma função primeiro_nome que recebe uma string nome completo e retorna somente o primeiro nome. Em seguida, use a função map para aplicar a função a uma lista de strings:\n",
    "nomes = ['João Carlos', 'Maria Eduarda', 'Ana Rute', 'Ana Clara']'''\n",
    "\n",
    "def primeiro_nome(nome_completo):\n",
    "    partes = nome_completo.split()  # Divide a string em palavras\n",
    "    if len(partes) > 0:  # Verifica se há pelo menos uma palavra\n",
    "        return partes[0]  # Retorna a primeira palavra\n",
    "    else:\n",
    "        return \"\"  # Retorna uma string vazia se a entrada estiver vazia\n",
    "\n",
    "nome = input(\"Seu nome completo: \")  # Use input() diretamente para receber a entrada do usuário\n",
    "primeiro = primeiro_nome(nome)\n",
    "print(\"Primeiro nome:\", primeiro)\n"
   ]
  },
  {
   "cell_type": "markdown",
   "metadata": {},
   "source": [
    "Map"
   ]
  },
  {
   "cell_type": "code",
   "execution_count": 27,
   "metadata": {},
   "outputs": [
    {
     "name": "stdout",
     "output_type": "stream",
     "text": [
      "['João', 'Maria', 'Ana', 'Ana']\n"
     ]
    }
   ],
   "source": [
    "\n",
    "def primeiro_nome(nome_completo):\n",
    "    partes = nome_completo.split()  # Divide a string em palavras\n",
    "    if len(partes) > 0:  # Verifica se há pelo menos uma palavra\n",
    "        return partes[0]  # Retorna a primeira palavra\n",
    "    else:\n",
    "        return \"\"  # Retorna uma string vazia se a entrada estiver vazia\n",
    "\n",
    "\n",
    "nomes = ['João Carlos', 'Maria Eduarda', 'Ana Rute', 'Ana Clara']\n",
    "\n",
    "primeiros_nomes = list(map(primeiro_nome, nomes)) \n",
    "\n",
    "print(primeiros_nomes)"
   ]
  },
  {
   "cell_type": "code",
   "execution_count": 28,
   "metadata": {},
   "outputs": [
    {
     "name": "stdout",
     "output_type": "stream",
     "text": [
      "Dia da semana: Wednesday\n"
     ]
    }
   ],
   "source": [
    "'''Escreva uma função que receba uma data no formato dd/mm/aaaa e retorne o dia da semana correspondente (Monday, Tuesday, etc.).'''\n",
    "\n",
    "\n",
    "from datetime import datetime\n",
    "\n",
    "def dia_da_semana(data):\n",
    "    try:\n",
    "        data_formatada = datetime.strptime(data, \"%d/%m/%Y\")\n",
    "        dia_semana = data_formatada.strftime(\"%A\")\n",
    "        return dia_semana\n",
    "    except ValueError:\n",
    "        return \"Data inválida\"\n",
    "\n",
    "# Exemplo de uso:\n",
    "data = input(\"Digite a data (dd/mm/aaaa): \")\n",
    "nome_dia = dia_da_semana(data)\n",
    "print(\"Dia da semana:\", nome_dia)\n",
    "\n"
   ]
  },
  {
   "cell_type": "code",
   "execution_count": null,
   "metadata": {},
   "outputs": [],
   "source": []
  }
 ],
 "metadata": {
  "kernelspec": {
   "display_name": "Python 3",
   "language": "python",
   "name": "python3"
  },
  "language_info": {
   "codemirror_mode": {
    "name": "ipython",
    "version": 3
   },
   "file_extension": ".py",
   "mimetype": "text/x-python",
   "name": "python",
   "nbconvert_exporter": "python",
   "pygments_lexer": "ipython3",
   "version": "3.12.0"
  }
 },
 "nbformat": 4,
 "nbformat_minor": 2
}
