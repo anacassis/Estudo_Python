{
 "cells": [
  {
   "cell_type": "code",
   "execution_count": 16,
   "metadata": {},
   "outputs": [
    {
     "name": "stdout",
     "output_type": "stream",
     "text": [
      "Hello Word\n"
     ]
    }
   ],
   "source": [
    "print(\"Hello Word\")"
   ]
  },
  {
   "cell_type": "code",
   "execution_count": 17,
   "metadata": {},
   "outputs": [
    {
     "name": "stdout",
     "output_type": "stream",
     "text": [
      "1\n"
     ]
    }
   ],
   "source": [
    "var_int = 1\n",
    "print(var_int)"
   ]
  },
  {
   "cell_type": "code",
   "execution_count": 18,
   "metadata": {},
   "outputs": [
    {
     "data": {
      "text/plain": [
       "(2.0, 'Dont Panic')"
      ]
     },
     "execution_count": 18,
     "metadata": {},
     "output_type": "execute_result"
    }
   ],
   "source": [
    "var_str = \"Dont Panic\"\n",
    "var_float = 2.0\n",
    "var_float,var_str"
   ]
  },
  {
   "cell_type": "code",
   "execution_count": 19,
   "metadata": {},
   "outputs": [
    {
     "name": "stdout",
     "output_type": "stream",
     "text": [
      "O número é 34\n",
      "O número é 64\n",
      "O número é 51\n",
      "O número é 50\n",
      "O número é 63\n",
      "O número é 46\n",
      "O número é 31\n",
      "O número é 100\n",
      "O número é 55\n"
     ]
    }
   ],
   "source": [
    "#Teste \n",
    "import random\n",
    "for i in range(1,10):\n",
    "    numero_min = 0\n",
    "    numero_max = 100\n",
    "    var_sub =  random.randint(numero_min,numero_max)\n",
    "    print(f'O número é {var_sub}')"
   ]
  },
  {
   "cell_type": "code",
   "execution_count": 33,
   "metadata": {},
   "outputs": [
    {
     "name": "stdout",
     "output_type": "stream",
     "text": [
      "2.0\n"
     ]
    },
    {
     "data": {
      "text/plain": [
       "bool"
      ]
     },
     "execution_count": 33,
     "metadata": {},
     "output_type": "execute_result"
    }
   ],
   "source": [
    "var_bool = True\n",
    "var_bool\n",
    "print(var_float)\n",
    "type(var_bool)"
   ]
  },
  {
   "cell_type": "code",
   "execution_count": 31,
   "metadata": {},
   "outputs": [
    {
     "name": "stdout",
     "output_type": "stream",
     "text": [
      "Olá, minha idade é 28\n"
     ]
    }
   ],
   "source": [
    "idade = int(input(f'Sua idade é:'))\n",
    "print(f\"Olá, minha idade é {idade}\")"
   ]
  },
  {
   "cell_type": "code",
   "execution_count": 35,
   "metadata": {},
   "outputs": [
    {
     "name": "stdout",
     "output_type": "stream",
     "text": [
      "30 17 2.0\n"
     ]
    }
   ],
   "source": [
    "#Operações\n",
    "\n",
    "x = 10\n",
    "y = 20\n",
    "z = 3\n",
    "\n",
    "soma = x+y\n",
    "sub = y-z\n",
    "mult = y/x\n",
    "\n",
    "print(soma,sub,mult)"
   ]
  },
  {
   "cell_type": "code",
   "execution_count": 36,
   "metadata": {},
   "outputs": [
    {
     "name": "stdout",
     "output_type": "stream",
     "text": [
      "1000 1 3\n"
     ]
    }
   ],
   "source": [
    "potencia = x**z\n",
    "modulo =  x%z\n",
    "div_int = x//z\n",
    "print(potencia,modulo,div_int)"
   ]
  },
  {
   "cell_type": "code",
   "execution_count": 41,
   "metadata": {},
   "outputs": [
    {
     "name": "stdout",
     "output_type": "stream",
     "text": [
      "False\n",
      "False\n",
      "True\n"
     ]
    }
   ],
   "source": [
    "print( x == 12)\n",
    "print(x == y)\n",
    "print(x == x)\n"
   ]
  },
  {
   "cell_type": "code",
   "execution_count": 44,
   "metadata": {},
   "outputs": [
    {
     "name": "stdout",
     "output_type": "stream",
     "text": [
      "True\n",
      "True\n",
      "False\n"
     ]
    }
   ],
   "source": [
    "print(0< x and x<100)\n",
    "print((10 == x) or (10 ==y)) #uma das funções serem verdadeiras\n",
    "print(not True) #Não é true é..."
   ]
  },
  {
   "cell_type": "code",
   "execution_count": 47,
   "metadata": {},
   "outputs": [
    {
     "data": {
      "text/plain": [
       "'tres'"
      ]
     },
     "execution_count": 47,
     "metadata": {},
     "output_type": "execute_result"
    }
   ],
   "source": [
    "#Estruturas de Dados\n",
    "minha_lista = [ 1,2.2, \"tres\", 4.0]\n",
    "minha_lista[2]"
   ]
  },
  {
   "cell_type": "code",
   "execution_count": 56,
   "metadata": {},
   "outputs": [
    {
     "data": {
      "text/plain": [
       "[7, 8]"
      ]
     },
     "execution_count": 56,
     "metadata": {},
     "output_type": "execute_result"
    }
   ],
   "source": [
    "minha_lista2 = [5,6,[7,8]]\n",
    "minha_lista2\n",
    "minha_lista2[2]"
   ]
  },
  {
   "cell_type": "code",
   "execution_count": 58,
   "metadata": {},
   "outputs": [
    {
     "data": {
      "text/plain": [
       "[5, 6, [7, 8], 'noventa', 'noventa']"
      ]
     },
     "execution_count": 58,
     "metadata": {},
     "output_type": "execute_result"
    }
   ],
   "source": [
    "# Adicionando informações\n",
    "minha_lista2.append('noventa')\n",
    "minha_lista2"
   ]
  },
  {
   "cell_type": "code",
   "execution_count": 61,
   "metadata": {},
   "outputs": [
    {
     "data": {
      "text/plain": [
       "[1, 2.2, 'tres', 4.0, 5, 6, [7, 8], 'noventa', 'noventa']"
      ]
     },
     "execution_count": 61,
     "metadata": {},
     "output_type": "execute_result"
    }
   ],
   "source": [
    "lista_completa = minha_lista + minha_lista2\n",
    "lista_completa"
   ]
  },
  {
   "cell_type": "code",
   "execution_count": 64,
   "metadata": {},
   "outputs": [
    {
     "data": {
      "text/plain": [
       "[1, 2, 4, 5, 6, 8]"
      ]
     },
     "execution_count": 64,
     "metadata": {},
     "output_type": "execute_result"
    }
   ],
   "source": [
    "lista_ordernar = [5,6,8,4,1,2]\n",
    "lista_ordernar.sort()\n",
    "lista_ordernar"
   ]
  },
  {
   "cell_type": "code",
   "execution_count": 69,
   "metadata": {},
   "outputs": [
    {
     "data": {
      "text/plain": [
       "{'Chave1': 'Valor1', 'Chave2': 'Valor2', 'Chave3': [1, 2]}"
      ]
     },
     "execution_count": 69,
     "metadata": {},
     "output_type": "execute_result"
    }
   ],
   "source": [
    "#Dicionario\n",
    "\n",
    "meu_dic = {\"Chave1\":\"Valor1\",\"Chave2\":\"Valor2\",\"Chave3\":[1,2]}\n",
    "meu_dic"
   ]
  },
  {
   "cell_type": "code",
   "execution_count": 71,
   "metadata": {},
   "outputs": [],
   "source": [
    "\n",
    "joao = {\"Nome\":\"Joao Silva\",\"Idade\":56} #{} chaves\n",
    "joao[\"Altura\"]= 1.81\n",
    "\n"
   ]
  },
  {
   "cell_type": "code",
   "execution_count": 72,
   "metadata": {},
   "outputs": [
    {
     "data": {
      "text/plain": [
       "{'Nome': 'Joao Silva', 'Idade': 56, 'Altura': 1.81}"
      ]
     },
     "execution_count": 72,
     "metadata": {},
     "output_type": "execute_result"
    }
   ],
   "source": [
    "joao"
   ]
  },
  {
   "cell_type": "code",
   "execution_count": 75,
   "metadata": {},
   "outputs": [
    {
     "data": {
      "text/plain": [
       "3.0"
      ]
     },
     "execution_count": 75,
     "metadata": {},
     "output_type": "execute_result"
    }
   ],
   "source": [
    "minha_tupla= (1,\"dois\",3.0) # (): parênteses\n",
    "minha_lista = [1,\"dois\",3.0] # [ ]: colchetes\n",
    "minha_lista[-1]\n"
   ]
  },
  {
   "cell_type": "code",
   "execution_count": 81,
   "metadata": {},
   "outputs": [
    {
     "name": "stdout",
     "output_type": "stream",
     "text": [
      "[1, 20, 50]\n",
      "[20, 50]\n",
      "[60, 80, 90, 1000]\n",
      "[1, 20, 50, 60, 80]\n",
      "[90, 1000]\n"
     ]
    }
   ],
   "source": [
    "minha_lista = [ 1,20,50,60,80,90,1000]\n",
    "print(minha_lista[:3])\n",
    "print(minha_lista[1:3])\n",
    "print(minha_lista[3:])\n",
    "print(minha_lista[:-2])\n",
    "print(minha_lista[-2:])"
   ]
  },
  {
   "cell_type": "code",
   "execution_count": 82,
   "metadata": {},
   "outputs": [
    {
     "data": {
      "text/plain": [
       "7"
      ]
     },
     "execution_count": 82,
     "metadata": {},
     "output_type": "execute_result"
    }
   ],
   "source": [
    "len(minha_lista) #Tamanho da lista retorna o numero de itens dentro de um objeto"
   ]
  },
  {
   "cell_type": "code",
   "execution_count": 87,
   "metadata": {},
   "outputs": [
    {
     "name": "stdout",
     "output_type": "stream",
     "text": [
      "[1, 2, 3]\n",
      "3\n",
      "c\n"
     ]
    }
   ],
   "source": [
    "minha_lista2 = [[1,2,3],'bm','c']\n",
    "print(minha_lista2[0])\n",
    "print(minha_lista2[0][2])\n",
    "print(minha_lista2[2])"
   ]
  },
  {
   "cell_type": "code",
   "execution_count": 90,
   "metadata": {},
   "outputs": [
    {
     "data": {
      "text/plain": [
       "'Hello World'"
      ]
     },
     "execution_count": 90,
     "metadata": {},
     "output_type": "execute_result"
    }
   ],
   "source": [
    "string1 = \"Hello\"\n",
    "string2 = \"World\"\n",
    "concatenada = string1 + \" \" + string2\n",
    "concatenada"
   ]
  },
  {
   "cell_type": "code",
   "execution_count": 91,
   "metadata": {},
   "outputs": [
    {
     "name": "stdout",
     "output_type": "stream",
     "text": [
      "Oi, meu nome é Joao e tenho 56 anos\n",
      "Oi, meu nome é Joao e tenho 56 anos\n"
     ]
    }
   ],
   "source": [
    "nome = \"Joao\"\n",
    "idade = 56\n",
    "frase = \"Oi, meu nome é {} e tenho {} anos\".format(nome, idade)\n",
    "print(frase)\n",
    "print(f\"Oi, meu nome é {nome} e tenho {idade} anos\")"
   ]
  },
  {
   "cell_type": "code",
   "execution_count": 93,
   "metadata": {},
   "outputs": [
    {
     "name": "stdout",
     "output_type": "stream",
     "text": [
      "Oi, \n",
      "meu nome é Joao \n",
      "e tenho 56 anos\n"
     ]
    }
   ],
   "source": [
    "print(frase[:4])\n",
    "print(frase[4:20])\n",
    "print(frase[20:])"
   ]
  },
  {
   "cell_type": "code",
   "execution_count": 92,
   "metadata": {},
   "outputs": [
    {
     "data": {
      "text/plain": [
       "'Oi, meu nome é Carlos e tenho 56 anos'"
      ]
     },
     "execution_count": 92,
     "metadata": {},
     "output_type": "execute_result"
    }
   ],
   "source": [
    "frase = \"Oi, meu nome é Joao e tenho 56 anos\"\n",
    "nova_frase = frase.replace(\"Joao\", \"Carlos\")\n",
    "nova_frase"
   ]
  },
  {
   "cell_type": "code",
   "execution_count": 94,
   "metadata": {},
   "outputs": [
    {
     "name": "stdout",
     "output_type": "stream",
     "text": [
      "Hello World\n",
      "HELLO WORLD!\n"
     ]
    },
    {
     "data": {
      "text/plain": [
       "['Oi,', 'meu', 'nome', 'é', 'Joao', 'e', 'tenho', '56', 'anos']"
      ]
     },
     "execution_count": 94,
     "metadata": {},
     "output_type": "execute_result"
    }
   ],
   "source": [
    "frase = \"      Hello World  \"\n",
    "nova_frase = frase.strip()\n",
    "print(nova_frase) \n",
    "\n",
    "texto = \"Hello World!\"\n",
    "texto_maiusculo = texto.upper()\n",
    "print(texto_maiusculo)  \n",
    "\n",
    "frase = \"Oi, meu nome é Joao e tenho 56 anos\"\n",
    "frase.split(',')\n",
    "\n",
    "frase.split()"
   ]
  },
  {
   "cell_type": "code",
   "execution_count": 113,
   "metadata": {},
   "outputs": [
    {
     "name": "stdout",
     "output_type": "stream",
     "text": [
      "Seu novo saque é:820.6\n"
     ]
    }
   ],
   "source": [
    "\n",
    "\"\"\"Crie uma variável chamada saldo e atribua o valor de 950,60.\n",
    "Em seguida, pergunte ao usuário quanto dinheiro ele deseja sacar e armazene a resposta em uma variável chamada saque.\n",
    "Subtraia o valor de saque do valor de saldo e imprima a mensagem \"Seu novo saldo é {saldo}.\"\"\"\n",
    "\n",
    "saldo = 950.60\n",
    "saque = float(input(\"Digite o valor:\"))\n",
    "novo_saldo = saldo - saque\n",
    "print(f\"Seu novo saque é:{novo_saldo}\")"
   ]
  },
  {
   "cell_type": "code",
   "execution_count": 132,
   "metadata": {},
   "outputs": [
    {
     "data": {
      "text/plain": [
       "['maçã', 'abacaxi', 'Uva', 'banana', 'laranja', 'manga']"
      ]
     },
     "execution_count": 132,
     "metadata": {},
     "output_type": "execute_result"
    }
   ],
   "source": [
    "\"\"\" 2-Faça um programa que crie uma lista com 5 frutas e permita que o usuário digite o nome de uma fruta. Se for uma fruta repetida deverá ser desconsiderada. \"\"\"\n",
    "\n",
    "frutas = [\"banana\", \"maçã\", \"abacaxi\", \"laranja\", \"manga\"]\n",
    "\n",
    "fruta = input(\"Digite o nome de uma fruta: \")\n",
    "\n",
    "frutas.append(fruta)\n",
    "\n",
    "frutas = list(set(frutas))\n",
    "frutas"
   ]
  },
  {
   "cell_type": "code",
   "execution_count": 131,
   "metadata": {},
   "outputs": [
    {
     "data": {
      "text/plain": [
       "'Ol* t*d* b*m p*ss**l'"
      ]
     },
     "execution_count": 131,
     "metadata": {},
     "output_type": "execute_result"
    }
   ],
   "source": [
    "\"\"\"Faça um programa que peça ao usuário para digitar uma frase e substitua todas as vogais por asteriscos (*).\"\"\"\n",
    "\n",
    "frase = input(\"Digite uma frase: \")\n",
    "nova_frase = frase.replace(\"a\",\"*\").replace(\"e\",\"*\").replace(\"i\",\"*\").replace(\"o\",\"*\").replace(\"u\",\"*\")\n",
    "\n",
    "nova_frase"
   ]
  },
  {
   "cell_type": "code",
   "execution_count": null,
   "metadata": {},
   "outputs": [],
   "source": []
  }
 ],
 "metadata": {
  "kernelspec": {
   "display_name": "Python 3",
   "language": "python",
   "name": "python3"
  },
  "language_info": {
   "codemirror_mode": {
    "name": "ipython",
    "version": 3
   },
   "file_extension": ".py",
   "mimetype": "text/x-python",
   "name": "python",
   "nbconvert_exporter": "python",
   "pygments_lexer": "ipython3",
   "version": "3.12.0"
  },
  "orig_nbformat": 4
 },
 "nbformat": 4,
 "nbformat_minor": 2
}
