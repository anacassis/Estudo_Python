{
  "cells": [
    {
      "cell_type": "markdown",
      "metadata": {
        "id": "bcoZqA7WRz2v"
      },
      "source": [
        "# Fundamentos de programação III"
      ]
    },
    {
      "cell_type": "markdown",
      "metadata": {
        "id": "avsnsUH6Rz2x"
      },
      "source": [
        "## Funções"
      ]
    },
    {
      "cell_type": "code",
      "execution_count": null,
      "metadata": {
        "id": "bZ5QzlFoRz2x",
        "outputId": "fe129d99-ff26-43ce-971e-3095e2bffba5"
      },
      "outputs": [
        {
          "data": {
            "text/plain": [
              "20"
            ]
          },
          "execution_count": 7,
          "metadata": {},
          "output_type": "execute_result"
        }
      ],
      "source": [
        "def mul(a,b):\n",
        "    x = a*b\n",
        "    return x\n",
        "mul(4,5)"
      ]
    },
    {
      "cell_type": "code",
      "execution_count": null,
      "metadata": {
        "id": "wH0ZJoplRz2y",
        "outputId": "30b6e9af-212d-495c-b637-2f9899279db4"
      },
      "outputs": [
        {
          "name": "stdout",
          "output_type": "stream",
          "text": [
            "20\n",
            "-20\n",
            "40\n"
          ]
        }
      ],
      "source": [
        "print(mul(4,5))\n",
        "print(mul(-2,10))\n",
        "print(mul(4,mul(2,5)))"
      ]
    },
    {
      "cell_type": "code",
      "execution_count": null,
      "metadata": {
        "id": "SIX7QvFERz2y",
        "outputId": "b4b30911-d9c1-48ff-d3f8-049b0c2d871c"
      },
      "outputs": [
        {
          "name": "stdout",
          "output_type": "stream",
          "text": [
            "ola!!!\n",
            "ola!!!\n"
          ]
        }
      ],
      "source": [
        "def diga_ola():\n",
        "    print(\"ola!!!\")\n",
        "diga_ola()\n",
        "diga_ola()"
      ]
    },
    {
      "cell_type": "code",
      "execution_count": null,
      "metadata": {
        "id": "CJOm1JDoRz2z",
        "outputId": "b664937f-3c80-4d2c-e38f-7b01058b6b3e"
      },
      "outputs": [
        {
          "name": "stdout",
          "output_type": "stream",
          "text": [
            "(5, 3)\n",
            "(5, 3)\n"
          ]
        }
      ],
      "source": [
        "def ordena(a,b):\n",
        "    if a > b:\n",
        "        return a, b\n",
        "    return b, a\n",
        "\n",
        "print(ordena(5,3))\n",
        "print(ordena(3,5))"
      ]
    },
    {
      "cell_type": "code",
      "execution_count": null,
      "metadata": {
        "id": "W7Bc_5O9Rz2z",
        "outputId": "919c0090-d1e2-405f-f817-8a52befb0cfb"
      },
      "outputs": [
        {
          "name": "stdout",
          "output_type": "stream",
          "text": [
            "print A: 200\n",
            "print B: 200\n",
            "print C: 10\n",
            "print D: 3\n",
            "print E: 200\n"
          ]
        }
      ],
      "source": [
        "\n",
        "x = 200\n",
        "print(\"print A:\",x)\n",
        "\n",
        "def mostraX(x):\n",
        "    print(\"print C:\",x)\n",
        "    x = 3\n",
        "    print(\"print D:\",x)\n",
        "\n",
        "print(\"print B:\",x)\n",
        "mostraX(10)\n",
        "print(\"print E:\",x)"
      ]
    },
    {
      "cell_type": "code",
      "execution_count": null,
      "metadata": {
        "id": "ixSX6H_ORz2z",
        "outputId": "acf80aa1-b9a3-4b31-9257-4cb7190acad4"
      },
      "outputs": [
        {
          "name": "stdout",
          "output_type": "stream",
          "text": [
            "imposto de: 750.0\n",
            "imposto de: 500.0\n",
            "imposto de: 500.0\n"
          ]
        }
      ],
      "source": [
        "def calcular_imposto(salario, taxa=0.1):\n",
        "    imposto = salario * taxa\n",
        "    print(\"imposto de:\", imposto)\n",
        "\n",
        "calcular_imposto(5000, 0.15)\n",
        "calcular_imposto(5000, 0.1)\n",
        "calcular_imposto(5000)\n"
      ]
    },
    {
      "cell_type": "markdown",
      "metadata": {
        "id": "gSNM67FJRz2z"
      },
      "source": [
        "## Lamda"
      ]
    },
    {
      "cell_type": "code",
      "execution_count": null,
      "metadata": {
        "id": "N9mEwZHzRz2z",
        "outputId": "e50194a2-54f0-4f93-d4f3-dc7628c86d6d"
      },
      "outputs": [
        {
          "data": {
            "text/plain": [
              "16"
            ]
          },
          "execution_count": 15,
          "metadata": {},
          "output_type": "execute_result"
        }
      ],
      "source": [
        "quadrado = lambda x: x ** 2\n",
        "quadrado(4)"
      ]
    },
    {
      "cell_type": "code",
      "execution_count": null,
      "metadata": {
        "id": "qWZGn6vjRz2z",
        "outputId": "a7a3da0e-3596-46a5-f24b-149c653b5dc3"
      },
      "outputs": [
        {
          "data": {
            "text/plain": [
              "True"
            ]
          },
          "execution_count": 24,
          "metadata": {},
          "output_type": "execute_result"
        }
      ],
      "source": [
        "eh_par = lambda x: (x % 2) == 0\n",
        "eh_par(4)"
      ]
    },
    {
      "cell_type": "markdown",
      "metadata": {
        "id": "iKdKScNwRz20"
      },
      "source": [
        "## Map"
      ]
    },
    {
      "cell_type": "code",
      "execution_count": null,
      "metadata": {
        "id": "QvmWsxuIRz20",
        "outputId": "ec40049f-7853-46be-9b17-289b713543b7"
      },
      "outputs": [
        {
          "name": "stdout",
          "output_type": "stream",
          "text": [
            "[6, 4, 6]\n"
          ]
        }
      ],
      "source": [
        "frutas = ['Banana', 'Pera', 'Tomate']\n",
        "tamanhos = map(len, frutas)\n",
        "print(list(tamanhos))"
      ]
    },
    {
      "cell_type": "code",
      "execution_count": null,
      "metadata": {
        "id": "twFD-RJRRz20",
        "outputId": "62b106d7-62db-4c72-b505-8273b2f80088"
      },
      "outputs": [
        {
          "name": "stdout",
          "output_type": "stream",
          "text": [
            "[9, 16, 25]\n"
          ]
        }
      ],
      "source": [
        "lista_quadrados = list(map(quadrado, [3,4,5]))\n",
        "print(lista_quadrados)"
      ]
    },
    {
      "cell_type": "markdown",
      "metadata": {
        "id": "Ktd3_YS9Rz20"
      },
      "source": [
        "## Date/Time\n"
      ]
    },
    {
      "cell_type": "code",
      "execution_count": null,
      "metadata": {
        "id": "eJDy9Dl2Rz20",
        "outputId": "7dec787c-6253-43b1-e718-0cf6c805926e"
      },
      "outputs": [
        {
          "name": "stdout",
          "output_type": "stream",
          "text": [
            "2023-01-25\n"
          ]
        }
      ],
      "source": [
        "from datetime import date\n",
        "\n",
        "aniversario = date(2023, 1, 25)\n",
        "print(aniversario)"
      ]
    },
    {
      "cell_type": "code",
      "execution_count": null,
      "metadata": {
        "id": "I_qmMW0dRz20",
        "outputId": "c4765550-9969-44e6-e72c-93fcdc0770c3"
      },
      "outputs": [
        {
          "data": {
            "text/plain": [
              "datetime.date(2023, 4, 12)"
            ]
          },
          "execution_count": 40,
          "metadata": {},
          "output_type": "execute_result"
        }
      ],
      "source": [
        "date.today()"
      ]
    },
    {
      "cell_type": "code",
      "execution_count": null,
      "metadata": {
        "id": "Cd638QW8Rz21",
        "outputId": "146c1ba5-dbb1-48a9-b5f5-c26c90980ac4"
      },
      "outputs": [
        {
          "data": {
            "text/plain": [
              "'2023-04-12 23:43:30.593804'"
            ]
          },
          "execution_count": 58,
          "metadata": {},
          "output_type": "execute_result"
        }
      ],
      "source": [
        "from datetime import datetime\n",
        "str(datetime.now())"
      ]
    },
    {
      "cell_type": "code",
      "execution_count": null,
      "metadata": {
        "id": "yQFU5vFYRz21",
        "outputId": "c73b6f04-daf3-48fc-aa83-6706d8b672e3"
      },
      "outputs": [
        {
          "name": "stdout",
          "output_type": "stream",
          "text": [
            "25/01/2023\n"
          ]
        }
      ],
      "source": [
        "aniversario = date(2023, 1, 25)\n",
        "formatado = aniversario.strftime(\"%d/%m/%Y\")\n",
        "print(formatado)"
      ]
    },
    {
      "cell_type": "code",
      "execution_count": null,
      "metadata": {
        "id": "MG-IFfJqRz21",
        "outputId": "f8392565-ec4e-4000-bb33-dab379db077c"
      },
      "outputs": [
        {
          "data": {
            "text/plain": [
              "datetime.datetime(2023, 1, 25, 0, 0)"
            ]
          },
          "execution_count": 49,
          "metadata": {},
          "output_type": "execute_result"
        }
      ],
      "source": [
        "from datetime import datetime\n",
        "volta_aniversario = datetime.strptime(formatado, \"%d/%m/%Y\")\n",
        "volta_aniversario"
      ]
    },
    {
      "cell_type": "code",
      "execution_count": null,
      "metadata": {
        "id": "RLUc2EvjRz21",
        "outputId": "95cc3a66-3646-4d70-9c0b-110be6d3ea9d"
      },
      "outputs": [
        {
          "name": "stdout",
          "output_type": "stream",
          "text": [
            "2023-04-12\n",
            "2023-04-11\n"
          ]
        }
      ],
      "source": [
        "from datetime import date, timedelta\n",
        "\n",
        "hoje  = date.today()\n",
        "ontem = hoje - timedelta(days=1)\n",
        "\n",
        "print(hoje)\n",
        "print(ontem)"
      ]
    },
    {
      "cell_type": "code",
      "execution_count": null,
      "metadata": {
        "id": "2sd7l4b0Rz21",
        "outputId": "a308adc3-5df2-4d3c-c11f-3c2a5249de95"
      },
      "outputs": [
        {
          "name": "stdout",
          "output_type": "stream",
          "text": [
            "2023-01-25\n",
            "2024-01-25\n"
          ]
        }
      ],
      "source": [
        "aniversario = date(2023, 1, 25)\n",
        "proximo_aniversario = aniversario.replace(year=aniversario.year + 1)\n",
        "\n",
        "print(aniversario)\n",
        "print(proximo_aniversario)"
      ]
    },
    {
      "cell_type": "markdown",
      "metadata": {
        "id": "tK3SKd28Rz21"
      },
      "source": [
        "## Boas práticas de programação"
      ]
    },
    {
      "cell_type": "code",
      "execution_count": null,
      "metadata": {
        "id": "zkMjkDD_Rz21"
      },
      "outputs": [],
      "source": [
        "def converte(c):\n",
        "    f = (c * 9/5) + 32\n",
        "    return f"
      ]
    },
    {
      "cell_type": "code",
      "execution_count": null,
      "metadata": {
        "id": "9aWh31EMRz21"
      },
      "outputs": [],
      "source": [
        "def celsius_para_fahrenheit(celsius):\n",
        "    \"\"\"\n",
        "    Converte uma temperatura em\n",
        "    graus Celsius para Fahrenheit.\n",
        "    \"\"\"\n",
        "    fahrenheit = (celsius * 9/5) + 32\n",
        "    return fahrenheit"
      ]
    }
  ],
  "metadata": {
    "colab": {
      "provenance": []
    },
    "kernelspec": {
      "display_name": "Python 3",
      "language": "python",
      "name": "python3"
    },
    "language_info": {
      "codemirror_mode": {
        "name": "ipython",
        "version": 3
      },
      "file_extension": ".py",
      "mimetype": "text/x-python",
      "name": "python",
      "nbconvert_exporter": "python",
      "pygments_lexer": "ipython3",
      "version": "3.10.8"
    },
    "orig_nbformat": 4,
    "vscode": {
      "interpreter": {
        "hash": "9f8688d2bc69c748babb560adc9158621fb8aef49546882c3e4c6326402dd0cc"
      }
    }
  },
  "nbformat": 4,
  "nbformat_minor": 0
}
