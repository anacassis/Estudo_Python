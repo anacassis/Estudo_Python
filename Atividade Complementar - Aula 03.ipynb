{
 "cells": [
  {
   "cell_type": "code",
   "execution_count": 3,
   "metadata": {},
   "outputs": [
    {
     "name": "stdout",
     "output_type": "stream",
     "text": [
      "20 Numero par\n"
     ]
    }
   ],
   "source": [
    "\"\"\"Descrição da atividade. \n",
    "\n",
    "Escreva um programa que receba um número inteiro e exiba se ele é par ou ímpar.\n",
    "\n",
    "\"\"\"\n",
    "numero_int = int(input(\"Escreva um numero: \"))\n",
    "\n",
    "if numero_int % 2 == 0:\n",
    "    print(f\"{numero_int} Numero par\")\n",
    "else:\n",
    "    print(f\"{numero_int} Numero par\")"
   ]
  },
  {
   "cell_type": "code",
   "execution_count": 35,
   "metadata": {},
   "outputs": [
    {
     "name": "stdout",
     "output_type": "stream",
     "text": [
      "Ola 3\n",
      "tdo 3\n",
      "bem 3\n"
     ]
    }
   ],
   "source": [
    "\"\"\"\n",
    "Escreva um programa em Python que solicita ao usuário uma frase e, em seguida, exibe cada palavra e seu número de caracteres.\n",
    "\"\"\"\n",
    "\n",
    "frase = input(\"Digite uma frase: \")\n",
    "palavra = frase.split()\n",
    "\n",
    "for i in palavra:\n",
    "    print(i, len(i))"
   ]
  },
  {
   "cell_type": "code",
   "execution_count": 3,
   "metadata": {},
   "outputs": [
    {
     "name": "stdout",
     "output_type": "stream",
     "text": [
      "Erro\n",
      "Erro\n",
      "Erro\n",
      "Parabéns\n"
     ]
    }
   ],
   "source": [
    "\"\"\"Crie um programa em Python que solicita ao usuário uma senha numérica de 4 dígitos. O programa deve repetir essa solicitação até que o usuário informe a senha correta (1234). \"\"\"\n",
    "\n",
    "senha = 1234\n",
    "soli_senha = int(input(\"Digite a senha de 4 digitos: \"))\n",
    "\n",
    "while soli_senha != senha:\n",
    "    print(\"Erro\")\n",
    "    soli_senha = int(input(\"Digite a senha de 4 digitos: \"))\n",
    "print(\"Parabéns\")"
   ]
  },
  {
   "cell_type": "code",
   "execution_count": 13,
   "metadata": {},
   "outputs": [
    {
     "name": "stdout",
     "output_type": "stream",
     "text": [
      "720\n"
     ]
    }
   ],
   "source": [
    "\"\"\"Escreva um programa que dado um valor n calcula o fatorial de n. \"\"\"\n",
    "\n",
    "n = int(input(\"Digite um numero: \"))\n",
    "resultado = 1 # variável para armazenar o resultado\n",
    "contador = 1 # variável para controlar o laço\n",
    "\n",
    "while contador <= n: # enquanto o contador for menor ou igual a n\n",
    "    resultado = resultado * contador # multiplica o resultado pelo contador\n",
    "    contador = contador + 1 # incrementa o contador em uma unidade\n",
    "\n",
    "print(f\"{resultado}\")\n",
    "\n"
   ]
  },
  {
   "cell_type": "code",
   "execution_count": 12,
   "metadata": {},
   "outputs": [
    {
     "name": "stdout",
     "output_type": "stream",
     "text": [
      "Nome: ['Ana Carolina', 'Douglas', 'Flavia']\n",
      "Idade: [26, 25, 36]\n"
     ]
    }
   ],
   "source": [
    "\"\"\"Crie um dicionário com os dados da tabela ao lado, crie um loop\n",
    "para exibir os valores\"\"\"\n",
    "\n",
    "tabela_at = {\"Nome\": [\"Ana Carolina\",\"Douglas\",\"Flavia\"],\n",
    "          \"Idade\": [26,25,36]}\n",
    "\n",
    "for Nome, Idade in tabela_at.items():\n",
    "    print(f\"{Nome}: {Idade}\")"
   ]
  },
  {
   "cell_type": "code",
   "execution_count": null,
   "metadata": {},
   "outputs": [],
   "source": []
  }
 ],
 "metadata": {
  "kernelspec": {
   "display_name": "Python 3",
   "language": "python",
   "name": "python3"
  },
  "language_info": {
   "codemirror_mode": {
    "name": "ipython",
    "version": 3
   },
   "file_extension": ".py",
   "mimetype": "text/x-python",
   "name": "python",
   "nbconvert_exporter": "python",
   "pygments_lexer": "ipython3",
   "version": "3.12.0"
  }
 },
 "nbformat": 4,
 "nbformat_minor": 2
}
